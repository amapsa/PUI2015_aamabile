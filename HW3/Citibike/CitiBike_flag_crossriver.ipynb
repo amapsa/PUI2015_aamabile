{
 "cells": [
  {
   "cell_type": "markdown",
   "metadata": {},
   "source": [
    "### flag data with crossing East River or not\n",
    "- testing on June 2015 data\n",
    "- using dissolved blockgroup geographic boundaries based on neighborhood code (geojson below created in QGIS) to define start/stop locations"
   ]
  },
  {
   "cell_type": "code",
   "execution_count": 1,
   "metadata": {
    "collapsed": false
   },
   "outputs": [
    {
     "name": "stdout",
     "output_type": "stream",
     "text": [
      "Populating the interactive namespace from numpy and matplotlib\n"
     ]
    }
   ],
   "source": [
    "%pylab inline\n",
    "# read in pandas and geopandas for data processing\n",
    "import pandas as pd\n",
    "import geopandas as geo\n"
   ]
  },
  {
   "cell_type": "code",
   "execution_count": 2,
   "metadata": {
    "collapsed": false
   },
   "outputs": [
    {
     "name": "stdout",
     "output_type": "stream",
     "text": [
      "<class 'geopandas.geodataframe.GeoDataFrame'>\n",
      "Int64Index: 5 entries, 0 to 4\n",
      "Data columns (total 4 columns):\n",
      "Borough     5 non-null object\n",
      "countyfp    5 non-null object\n",
      "geometry    5 non-null object\n",
      "id          5 non-null int64\n",
      "dtypes: int64(1), object(3)\n",
      "memory usage: 200.0+ bytes\n",
      "None\n"
     ]
    }
   ],
   "source": [
    "# read in boroughs geojson\n",
    "boros = geo.GeoDataFrame.from_file('nyc_boroughs.geojson')\n",
    "print boros.info()"
   ]
  },
  {
   "cell_type": "code",
   "execution_count": 3,
   "metadata": {
    "collapsed": false
   },
   "outputs": [
    {
     "data": {
      "text/plain": [
       "<matplotlib.axes._subplots.AxesSubplot at 0x7f25c9a0ee10>"
      ]
     },
     "execution_count": 3,
     "metadata": {},
     "output_type": "execute_result"
    },
    {
     "data": {
      "image/png": "[encoded data removed]",
      "text/plain": [
       "<matplotlib.figure.Figure at 0x7f26006fd9d0>"
      ]
     },
     "metadata": {},
     "output_type": "display_data"
    }
   ],
   "source": [
    "# view boros\n",
    "boros.plot()"
   ]
  },
  {
   "cell_type": "code",
   "execution_count": 4,
   "metadata": {
    "collapsed": false
   },
   "outputs": [
    {
     "name": "stdout",
     "output_type": "stream",
     "text": [
      "<class 'pandas.core.frame.DataFrame'>\n",
      "Int64Index: 508 entries, 0 to 507\n",
      "Data columns (total 2 columns):\n",
      "executionTime      508 non-null object\n",
      "stationBeanList    508 non-null object\n",
      "dtypes: object(2)\n",
      "memory usage: 11.9+ KB\n"
     ]
    }
   ],
   "source": [
    "# read station data, confirm structure\n",
    "stationJson = pd.read_json('CitiBike_Stations.json')\n",
    "stationJson.info()"
   ]
  },
  {
   "cell_type": "code",
   "execution_count": 5,
   "metadata": {
    "collapsed": false
   },
   "outputs": [
    {
     "name": "stdout",
     "output_type": "stream",
     "text": [
      "<class 'pandas.core.frame.DataFrame'>\n",
      "Int64Index: 508 entries, 0 to 507\n",
      "Data columns (total 18 columns):\n",
      "altitude                 508 non-null object\n",
      "availableBikes           508 non-null int64\n",
      "availableDocks           508 non-null int64\n",
      "city                     508 non-null object\n",
      "id                       508 non-null int64\n",
      "landMark                 508 non-null object\n",
      "lastCommunicationTime    508 non-null object\n",
      "latitude                 508 non-null float64\n",
      "location                 508 non-null object\n",
      "longitude                508 non-null float64\n",
      "postalCode               508 non-null object\n",
      "stAddress1               508 non-null object\n",
      "stAddress2               508 non-null object\n",
      "stationName              508 non-null object\n",
      "statusKey                508 non-null int64\n",
      "statusValue              508 non-null object\n",
      "testStation              508 non-null bool\n",
      "totalDocks               508 non-null int64\n",
      "dtypes: bool(1), float64(2), int64(5), object(10)\n",
      "memory usage: 71.9+ KB\n",
      "None\n"
     ]
    }
   ],
   "source": [
    "# convert JSON to DataFrame \n",
    "stations = pd.DataFrame()\n",
    "for i,s in enumerate(stationJson.stationBeanList):\n",
    "    stations = stations.append(pd.DataFrame(s, index=[i]))\n",
    "    \n",
    "print stations.info()"
   ]
  },
  {
   "cell_type": "code",
   "execution_count": 6,
   "metadata": {
    "collapsed": false
   },
   "outputs": [
    {
     "name": "stdout",
     "output_type": "stream",
     "text": [
      "<class 'geopandas.geodataframe.GeoDataFrame'>\n",
      "Int64Index: 508 entries, 0 to 507\n",
      "Data columns (total 19 columns):\n",
      "altitude                 508 non-null object\n",
      "availableBikes           508 non-null int64\n",
      "availableDocks           508 non-null int64\n",
      "city                     508 non-null object\n",
      "id                       508 non-null int64\n",
      "landMark                 508 non-null object\n",
      "lastCommunicationTime    508 non-null object\n",
      "latitude                 508 non-null float64\n",
      "location                 508 non-null object\n",
      "longitude                508 non-null float64\n",
      "postalCode               508 non-null object\n",
      "stAddress1               508 non-null object\n",
      "stAddress2               508 non-null object\n",
      "stationName              508 non-null object\n",
      "statusKey                508 non-null int64\n",
      "statusValue              508 non-null object\n",
      "testStation              508 non-null bool\n",
      "totalDocks               508 non-null int64\n",
      "geometry                 508 non-null object\n",
      "dtypes: bool(1), float64(2), int64(5), object(11)\n",
      "memory usage: 75.9+ KB\n"
     ]
    }
   ],
   "source": [
    "# set up station data as GeoDataFrame\n",
    "stations['geometry'] = stations.apply(lambda z: geo.geoseries.Point([z.longitude, z.latitude]), axis=1)\n",
    "stations = geo.GeoDataFrame(stations) # have to reset as GeoDataFrame because geopandas is glitchy\n",
    "stations.info()"
   ]
  },
  {
   "cell_type": "code",
   "execution_count": 7,
   "metadata": {
    "collapsed": false
   },
   "outputs": [
    {
     "data": {
      "text/plain": [
       "<matplotlib.axes._subplots.AxesSubplot at 0x7f25c9626390>"
      ]
     },
     "execution_count": 7,
     "metadata": {},
     "output_type": "execute_result"
    },
    {
     "data": {
      "image/png": "[encoded data removed]",
      "text/plain": [
       "<matplotlib.figure.Figure at 0x7f25c3c43750>"
      ]
     },
     "metadata": {},
     "output_type": "display_data"
    }
   ],
   "source": [
    "# check map of stations on top of boroughs\n",
    "boros.plot()\n",
    "stations.plot()"
   ]
  },
  {
   "cell_type": "code",
   "execution_count": 8,
   "metadata": {
    "collapsed": false
   },
   "outputs": [
    {
     "data": {
      "text/plain": [
       "array([u'MN', u'BK', u'QN', ''], dtype=object)"
      ]
     },
     "execution_count": 8,
     "metadata": {},
     "output_type": "execute_result"
    }
   ],
   "source": [
    "# flag stations by borough - ignore NJ cluster as we're looking at E. River bridge(s)\n",
    "stations['boro'] = ''\n",
    "for i, s in stations.iterrows():\n",
    "    sInB = ''\n",
    "    for b, boro in boros.iterrows():\n",
    "        isin = s['geometry'].within(boro.geometry)\n",
    "        if (isin):\n",
    "            sInB = boro.Borough\n",
    "    stations['boro'].iat[i] = sInB\n",
    "    \n",
    "stations.boro.unique() # check matched station boroughs"
   ]
  },
  {
   "cell_type": "code",
   "execution_count": 9,
   "metadata": {
    "collapsed": false
   },
   "outputs": [
    {
     "name": "stdout",
     "output_type": "stream",
     "text": [
      "<class 'pandas.core.frame.DataFrame'>\n",
      "Int64Index: 941219 entries, 0 to 941218\n",
      "Data columns (total 15 columns):\n",
      "tripduration               941219 non-null int64\n",
      "starttime                  941219 non-null object\n",
      "stoptime                   941219 non-null object\n",
      "start station id           941219 non-null int64\n",
      "start station name         941219 non-null object\n",
      "start station latitude     941219 non-null float64\n",
      "start station longitude    941219 non-null float64\n",
      "end station id             941219 non-null int64\n",
      "end station name           941219 non-null object\n",
      "end station latitude       941219 non-null float64\n",
      "end station longitude      941219 non-null float64\n",
      "bikeid                     941219 non-null int64\n",
      "usertype                   941219 non-null object\n",
      "birth year                 810827 non-null float64\n",
      "gender                     941219 non-null int64\n",
      "dtypes: float64(5), int64(5), object(5)\n",
      "memory usage: 114.9+ MB\n",
      "None\n"
     ]
    }
   ],
   "source": [
    "# and read in June CitiBike data\n",
    "citibike = pd.read_csv('201506-citibike-tripdata.csv')\n",
    "print citibike.info() # check metadata"
   ]
  },
  {
   "cell_type": "code",
   "execution_count": 10,
   "metadata": {
    "collapsed": false
   },
   "outputs": [
    {
     "name": "stdout",
     "output_type": "stream",
     "text": [
      "<class 'pandas.core.frame.DataFrame'>\n",
      "Int64Index: 508 entries, 0 to 507\n",
      "Data columns (total 2 columns):\n",
      "boro    508 non-null object\n",
      "id      508 non-null int64\n",
      "dtypes: int64(1), object(1)\n",
      "memory usage: 11.9+ KB\n"
     ]
    }
   ],
   "source": [
    "# select out just id and boro for merge to trip data\n",
    "stationBoros = pd.DataFrame(stations[['boro', 'id']])\n",
    "stationBoros.info()"
   ]
  },
  {
   "cell_type": "code",
   "execution_count": 11,
   "metadata": {
    "collapsed": false
   },
   "outputs": [
    {
     "name": "stdout",
     "output_type": "stream",
     "text": [
      "<class 'pandas.core.frame.DataFrame'>\n",
      "Int64Index: 941219 entries, 0 to 941218\n",
      "Data columns (total 18 columns):\n",
      "tripduration               941219 non-null int64\n",
      "starttime                  941219 non-null object\n",
      "stoptime                   941219 non-null object\n",
      "start station id           941219 non-null int64\n",
      "start station name         941219 non-null object\n",
      "start station latitude     941219 non-null float64\n",
      "start station longitude    941219 non-null float64\n",
      "end station id             941219 non-null int64\n",
      "end station name           941219 non-null object\n",
      "end station latitude       941219 non-null float64\n",
      "end station longitude      941219 non-null float64\n",
      "bikeid                     941219 non-null int64\n",
      "usertype                   941219 non-null object\n",
      "birth year                 810827 non-null float64\n",
      "gender                     941219 non-null int64\n",
      "boro                       932947 non-null object\n",
      "id                         932947 non-null float64\n",
      "start_boro                 932947 non-null object\n",
      "dtypes: float64(6), int64(5), object(7)\n",
      "memory usage: 136.4+ MB\n"
     ]
    }
   ],
   "source": [
    "# join on start station id and make start station boro column\n",
    "citibike = pd.merge(citibike, stationBoros, left_on='start station id', right_on='id', how='left')\n",
    "citibike['start_boro'] = citibike.boro\n",
    "citibike.info()"
   ]
  },
  {
   "cell_type": "code",
   "execution_count": 12,
   "metadata": {
    "collapsed": false
   },
   "outputs": [
    {
     "name": "stdout",
     "output_type": "stream",
     "text": [
      "<class 'pandas.core.frame.DataFrame'>\n",
      "Int64Index: 941219 entries, 0 to 941218\n",
      "Data columns (total 16 columns):\n",
      "tripduration               941219 non-null int64\n",
      "starttime                  941219 non-null object\n",
      "stoptime                   941219 non-null object\n",
      "start station id           941219 non-null int64\n",
      "start station name         941219 non-null object\n",
      "start station latitude     941219 non-null float64\n",
      "start station longitude    941219 non-null float64\n",
      "end station id             941219 non-null int64\n",
      "end station name           941219 non-null object\n",
      "end station latitude       941219 non-null float64\n",
      "end station longitude      941219 non-null float64\n",
      "bikeid                     941219 non-null int64\n",
      "usertype                   941219 non-null object\n",
      "birth year                 810827 non-null float64\n",
      "gender                     941219 non-null int64\n",
      "start_boro                 932947 non-null object\n",
      "dtypes: float64(5), int64(5), object(6)\n",
      "memory usage: 122.1+ MB\n"
     ]
    }
   ],
   "source": [
    "# clean up dataframe\n",
    "citibike.drop(citibike.loc[:,['boro', 'id']], axis=1, inplace=True)\n",
    "citibike.info()"
   ]
  },
  {
   "cell_type": "code",
   "execution_count": null,
   "metadata": {
    "collapsed": false
   },
   "outputs": [],
   "source": [
    "# add end station boro\n",
    "citibike = pd.merge(citibike, stationBoros, left_on='end station id', right_on='id', how='left')\n",
    "# citibike['end_boro'] = citibike.boro\n",
    "citibike.info()"
   ]
  },
  {
   "cell_type": "code",
   "execution_count": 13,
   "metadata": {
    "collapsed": false
   },
   "outputs": [
    {
     "name": "stdout",
     "output_type": "stream",
     "text": [
      "<class 'pandas.core.frame.DataFrame'>\n",
      "Int64Index: 941219 entries, 0 to 941218\n",
      "Data columns (total 19 columns):\n",
      "tripduration               941219 non-null int64\n",
      "starttime                  941219 non-null object\n",
      "stoptime                   941219 non-null object\n",
      "start station id           941219 non-null int64\n",
      "start station name         941219 non-null object\n",
      "start station latitude     941219 non-null float64\n",
      "start station longitude    941219 non-null float64\n",
      "end station id             941219 non-null int64\n",
      "end station name           941219 non-null object\n",
      "end station latitude       941219 non-null float64\n",
      "end station longitude      941219 non-null float64\n",
      "bikeid                     941219 non-null int64\n",
      "usertype                   941219 non-null object\n",
      "birth year                 810827 non-null float64\n",
      "gender                     941219 non-null int64\n",
      "start_boro                 932947 non-null object\n",
      "boro                       932430 non-null object\n",
      "id                         932430 non-null float64\n",
      "end_boro                   932430 non-null object\n",
      "dtypes: float64(6), int64(5), object(8)\n",
      "memory usage: 143.6+ MB\n"
     ]
    }
   ],
   "source": [
    "# add end station boro\n",
    "citibike = pd.merge(citibike, stationBoros, left_on='end station id', right_on='id', how='left')\n",
    "citibike['end_boro'] = citibike.boro\n",
    "citibike.info()"
   ]
  },
  {
   "cell_type": "code",
   "execution_count": 14,
   "metadata": {
    "collapsed": false
   },
   "outputs": [
    {
     "name": "stdout",
     "output_type": "stream",
     "text": [
      "<class 'pandas.core.frame.DataFrame'>\n",
      "Int64Index: 941219 entries, 0 to 941218\n",
      "Data columns (total 17 columns):\n",
      "tripduration               941219 non-null int64\n",
      "starttime                  941219 non-null object\n",
      "stoptime                   941219 non-null object\n",
      "start station id           941219 non-null int64\n",
      "start station name         941219 non-null object\n",
      "start station latitude     941219 non-null float64\n",
      "start station longitude    941219 non-null float64\n",
      "end station id             941219 non-null int64\n",
      "end station name           941219 non-null object\n",
      "end station latitude       941219 non-null float64\n",
      "end station longitude      941219 non-null float64\n",
      "bikeid                     941219 non-null int64\n",
      "usertype                   941219 non-null object\n",
      "birth year                 810827 non-null float64\n",
      "gender                     941219 non-null int64\n",
      "start_boro                 932947 non-null object\n",
      "end_boro                   932430 non-null object\n",
      "dtypes: float64(5), int64(5), object(7)\n",
      "memory usage: 129.3+ MB\n"
     ]
    }
   ],
   "source": [
    "# clean up dataframe\n",
    "citibike.drop(citibike.loc[:,['boro', 'id']], axis=1, inplace=True)\n",
    "citibike.info()"
   ]
  },
  {
   "cell_type": "code",
   "execution_count": 15,
   "metadata": {
    "collapsed": false
   },
   "outputs": [
    {
     "name": "stdout",
     "output_type": "stream",
     "text": [
      "crossed_eastriver\n",
      "no     903973\n",
      "yes     37246\n",
      "dtype: int64\n",
      "<class 'pandas.core.frame.DataFrame'>\n",
      "Int64Index: 941219 entries, 0 to 941218\n",
      "Data columns (total 18 columns):\n",
      "tripduration               941219 non-null int64\n",
      "starttime                  941219 non-null object\n",
      "stoptime                   941219 non-null object\n",
      "start station id           941219 non-null int64\n",
      "start station name         941219 non-null object\n",
      "start station latitude     941219 non-null float64\n",
      "start station longitude    941219 non-null float64\n",
      "end station id             941219 non-null int64\n",
      "end station name           941219 non-null object\n",
      "end station latitude       941219 non-null float64\n",
      "end station longitude      941219 non-null float64\n",
      "bikeid                     941219 non-null int64\n",
      "usertype                   941219 non-null object\n",
      "birth year                 810827 non-null float64\n",
      "gender                     941219 non-null int64\n",
      "start_boro                 932947 non-null object\n",
      "end_boro                   932430 non-null object\n",
      "crossed_eastriver          941219 non-null object\n",
      "dtypes: float64(5), int64(5), object(8)\n",
      "memory usage: 136.4+ MB\n"
     ]
    }
   ],
   "source": [
    "# create flag for if trip crosses river ('MN' <-> 'BK'); there should be a faster way to do this...\n",
    "citibike['crossed_eastriver'] = citibike.apply(lambda z: 'yes' \n",
    "                                               if ((z.start_boro=='MN' and z.end_boro=='BK') or \n",
    "                                                   (z.start_boro=='BK' and z.end_boro=='MN'))\n",
    "                                              else 'no', axis=1)\n",
    "# count number of trips that cross or do not cross e. river\n",
    "print citibike.groupby('crossed_eastriver').size() # rough count in QGIS = 38,360, here = 37,246; difference?\n",
    "# and reprint dataframe info to see it all again\n",
    "citibike.info()"
   ]
  },
  {
   "cell_type": "code",
   "execution_count": 17,
   "metadata": {
    "collapsed": false
   },
   "outputs": [],
   "source": [
    "# write out station boroughs, and updated citibike dataframes\n",
    "stationBoros.to_csv('./station_boroughs.csv', sep=',')\n",
    "citibike.to_csv('./201506-trips-wCrossings-1004.csv', sep=',')"
   ]
  },
  {
   "cell_type": "code",
   "execution_count": 19,
   "metadata": {
    "collapsed": false
   },
   "outputs": [
    {
     "data": {
      "text/plain": [
       "0.04120255804100344"
      ]
     },
     "execution_count": 19,
     "metadata": {},
     "output_type": "execute_result"
    }
   ],
   "source": [
    "37246.0 / 903973"
   ]
  },
  {
   "cell_type": "code",
   "execution_count": null,
   "metadata": {
    "collapsed": true
   },
   "outputs": [],
   "source": []
  }
 ],
 "metadata": {
  "kernelspec": {
   "display_name": "Python 2",
   "language": "python",
   "name": "python2"
  },
  "language_info": {
   "codemirror_mode": {
    "name": "ipython",
    "version": 2
   },
   "file_extension": ".py",
   "mimetype": "text/x-python",
   "name": "python",
   "nbconvert_exporter": "python",
   "pygments_lexer": "ipython2",
   "version": "2.7.10"
  }
 },
 "nbformat": 4,
 "nbformat_minor": 0
}
