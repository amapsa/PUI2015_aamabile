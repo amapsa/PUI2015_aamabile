{
 "cells": [
  {
   "cell_type": "markdown",
   "metadata": {},
   "source": [
    "# HOMEWORK 4 - ARNO AMABILE\n",
    "___\n",
    "\n",
    "# Assignment 1 - Distributions comparisons"
   ]
  },
  {
   "cell_type": "code",
   "execution_count": 62,
   "metadata": {
    "collapsed": false
   },
   "outputs": [
    {
     "name": "stdout",
     "output_type": "stream",
     "text": [
      "Populating the interactive namespace from numpy and matplotlib\n"
     ]
    }
   ],
   "source": [
    "import pylab as pl\n",
    "import pandas as pd\n",
    "import numpy as np\n",
    "import scipy.stats\n",
    "%pylab inline\n",
    "\n",
    "import os\n",
    "\n",
    "#this makes my plots pretty! but it is totally not mandatory to do it\n",
    "import json\n",
    "s = json.load( open(os.getenv ('PUI2015')+\"/fbb_matplotlibrc.json\") )\n",
    "pl.rcParams.update(s)"
   ]
  },
  {
   "cell_type": "code",
   "execution_count": 63,
   "metadata": {
    "collapsed": false
   },
   "outputs": [],
   "source": [
    "df=pd.read_csv(os.getenv ('PUI2015')+'/Data/201505-citibike-tripdata.csv')"
   ]
  },
  {
   "cell_type": "code",
   "execution_count": 64,
   "metadata": {
    "collapsed": false
   },
   "outputs": [
    {
     "name": "stdout",
     "output_type": "stream",
     "text": [
      "<class 'pandas.core.frame.DataFrame'>\n",
      "Int64Index: 961986 entries, 0 to 961985\n",
      "Data columns (total 15 columns):\n",
      "tripduration               961986 non-null int64\n",
      "starttime                  961986 non-null object\n",
      "stoptime                   961986 non-null object\n",
      "start station id           961986 non-null int64\n",
      "start station name         961986 non-null object\n",
      "start station latitude     961986 non-null float64\n",
      "start station longitude    961986 non-null float64\n",
      "end station id             961986 non-null int64\n",
      "end station name           961986 non-null object\n",
      "end station latitude       961986 non-null float64\n",
      "end station longitude      961986 non-null float64\n",
      "bikeid                     961986 non-null int64\n",
      "usertype                   961986 non-null object\n",
      "birth year                 794434 non-null float64\n",
      "gender                     961986 non-null int64\n",
      "dtypes: float64(5), int64(5), object(5)\n",
      "memory usage: 117.4+ MB\n"
     ]
    }
   ],
   "source": [
    "df.info()"
   ]
  },
  {
   "cell_type": "markdown",
   "metadata": {},
   "source": [
    "## 1 - Male vs. Female"
   ]
  },
  {
   "cell_type": "code",
   "execution_count": 65,
   "metadata": {
    "collapsed": true
   },
   "outputs": [],
   "source": [
    "df['ageM'] = 2015-df['birth year'][(df['usertype'] == 'Subscriber') & (df['gender'] == 1)]\n",
    "df['ageF'] = 2015-df['birth year'][(df['usertype'] == 'Subscriber') & (df['gender'] == 2)]"
   ]
  },
  {
   "cell_type": "code",
   "execution_count": 66,
   "metadata": {
    "collapsed": false
   },
   "outputs": [
    {
     "data": {
      "text/plain": [
       "<matplotlib.axes.AxesSubplot at 0x1287c7cd0>"
      ]
     },
     "execution_count": 66,
     "metadata": {},
     "output_type": "execute_result"
    },
    {
     "data": {
      "image/png": "[encoded data removed]",
      "text/plain": [
       "<matplotlib.figure.Figure at 0x1305e1710>"
      ]
     },
     "metadata": {},
     "output_type": "display_data"
    },
    {
     "data": {
      "image/png": "[encoded data removed]",
      "text/plain": [
       "<matplotlib.figure.Figure at 0x1287b8710>"
      ]
     },
     "metadata": {},
     "output_type": "display_data"
    }
   ],
   "source": [
    "bins = np.arange(10, 99, 10)\n",
    "df.ageM.groupby(pd.cut(df.ageM, bins)).agg([count_nonzero]).plot(kind='bar')\n",
    "df.ageF.groupby(pd.cut(df.ageF, bins)).agg([count_nonzero]).plot(kind='bar')"
   ]
  },
  {
   "cell_type": "code",
   "execution_count": 67,
   "metadata": {
    "collapsed": false
   },
   "outputs": [],
   "source": [
    "csM=df.ageM.groupby(pd.cut(df.ageM, bins)).agg([count_nonzero]).cumsum()\n",
    "csF=df.ageF.groupby(pd.cut(df.ageF, bins)).agg([count_nonzero]).cumsum()"
   ]
  },
  {
   "cell_type": "markdown",
   "metadata": {},
   "source": [
    "### a) KS Test of the two distributions"
   ]
  },
  {
   "cell_type": "code",
   "execution_count": 68,
   "metadata": {
    "collapsed": false
   },
   "outputs": [
    {
     "data": {
      "image/png": "[encoded data removed]",
      "text/plain": [
       "<IPython.core.display.Image object>"
      ]
     },
     "execution_count": 68,
     "metadata": {},
     "output_type": "execute_result"
    }
   ],
   "source": [
    "from IPython.display import Image\n",
    "Image(filename=\"ks2sample_table.png\")"
   ]
  },
  {
   "cell_type": "code",
   "execution_count": 88,
   "metadata": {
    "collapsed": false
   },
   "outputs": [
    {
     "name": "stdout",
     "output_type": "stream",
     "text": [
      "Is the KS statistic 0.44 bigger than the critical value 0.00e+00?\n",
      "Yes\n",
      "We reject the Null hypothesis for this month at the 5.0 % significance level \n",
      "    H0: the two samples are drawn from the same distribution\n"
     ]
    }
   ],
   "source": [
    "ks, p =scipy.stats.ks_2samp(df.ageM, df.ageF)\n",
    "\n",
    "alpha = 0.05\n",
    "c = 1.36*sqrt((df.ageM.count() + df.ageF.count())/(df.ageM.count()*df.ageF.count()))\n",
    "\n",
    "def report_result(ks,c):\n",
    "    print \"Is the KS statistic {0:.2f} bigger than the critical value {1:.2e}?\".format(ks,c)\n",
    "    if ks > c:\n",
    "        print \"Yes\"\n",
    "    else: print \"No\"\n",
    "    \n",
    "    print 'We {0} the Null hypothesis for this month at the {1} % significance level \\n\\\n",
    "    H0: the two samples are drawn from the same distribution'.format( 'reject' if ks > c  else 'fail to reject', \n",
    "                                                                     alpha*100) \n",
    "    \n",
    "report_result(ks,c)"
   ]
  },
  {
   "cell_type": "markdown",
   "metadata": {},
   "source": [
    "### b) Pearson's test for correlation"
   ]
  },
  {
   "cell_type": "code",
   "execution_count": 70,
   "metadata": {
    "collapsed": false
   },
   "outputs": [],
   "source": [
    "# I generate a random sample of my bikers, as I need arrays of the same shape for the test\n",
    "ageM2 = np.random.choice(df.ageM.dropna(), 100000, replace=False)\n",
    "ageF2 = np.random.choice(df.ageF.dropna(), 100000, replace=False)"
   ]
  },
  {
   "cell_type": "code",
   "execution_count": 86,
   "metadata": {
    "collapsed": false
   },
   "outputs": [
    {
     "name": "stdout",
     "output_type": "stream",
     "text": [
      "Pearson Correlation: 3.14e-03\n",
      "Is the p-value 0.32 smaller than the significance level 0.05?\n",
      "No\n",
      "We fail to reject the Null hypothesis for this month at the 5.0 % significance level\n"
     ]
    }
   ],
   "source": [
    "pears, p = scipy.stats.pearsonr(ageM2, ageF2)\n",
    "print \"Pearson Correlation: {0:.2e}\".format(pears)\n",
    "\n",
    "def report_result(p,a):\n",
    "    print \"Is the p-value {0:.2f} smaller than the significance level {1:.2f}?\".format(p,a)\n",
    "    if p < a:\n",
    "        print \"Yes\"\n",
    "    else: print \"No\"\n",
    "    \n",
    "    print 'We {0} the Null hypothesis for this month at the {1} % significance level'.format( 'reject' if p < a \n",
    "                                                                                             else 'fail to reject',\n",
    "                                                                                            alpha*100)     \n",
    "report_result(p,alpha)"
   ]
  },
  {
   "cell_type": "markdown",
   "metadata": {},
   "source": [
    "According to Scipy Documentation, the p-value \"indicates the probability of an uncorrelated system producing datasets that have a Pearson correlation at least as extreme as the one computed from these datasets.\" A relatively high p-value for usual standards does hence not mean that the datasets are highly correlated either.\n",
    "\n",
    "### c) Spearman's test"
   ]
  },
  {
   "cell_type": "code",
   "execution_count": 85,
   "metadata": {
    "collapsed": false
   },
   "outputs": [
    {
     "name": "stdout",
     "output_type": "stream",
     "text": [
      "Spearman Correlation: 4.40e-03\n",
      "Is the p-value 0.16 smaller than the significance level 0.05?\n",
      "No\n",
      "We fail to reject the Null hypothesis for this month at the 5.0 % significance level\n"
     ]
    }
   ],
   "source": [
    "spear, p = scipy.stats.spearmanr(ageM2, ageF2)\n",
    "print \"Spearman Correlation: {0:.2e}\".format(spear)\n",
    "\n",
    "def report_result(p,a):\n",
    "    print \"Is the p-value {0:.2f} smaller than the significance level {1:.2f}?\".format(p,a)\n",
    "    if p < a:\n",
    "        print \"Yes\"\n",
    "    else: print \"No\"\n",
    "    \n",
    "    print 'We {0} the Null hypothesis for this month at the {1} % significance level'.format( 'reject' if p < a \n",
    "                                                                                             else 'fail to reject',\n",
    "                                                                                            alpha*100)     \n",
    "report_result(p,alpha)"
   ]
  },
  {
   "cell_type": "markdown",
   "metadata": {},
   "source": [
    "The results have the same meaning than for Pearson's test: the correlation is small, but the p-value is high, which means that we cannot reject the hypothesis that the two datasets are correlated.\n",
    "\n",
    "**In conclusion**: The distribution of age for male and female riders are slightly correlated, but we reject the hypothesis that they are drawn from the same distributions at the 5 % significance level."
   ]
  },
  {
   "cell_type": "markdown",
   "metadata": {},
   "source": [
    "## 2 - Day vs. Night\n",
    "### a) KS correlation test"
   ]
  },
  {
   "cell_type": "code",
   "execution_count": 73,
   "metadata": {
    "collapsed": true
   },
   "outputs": [],
   "source": [
    "# Use a temporary subset of the dataframe\n",
    "temp = pd.DatetimeIndex(df['starttime'])\n",
    "\n",
    "# Generate a dummy for the night\n",
    "df['early'] = pd.get_dummies(temp.hour < 6)[1]\n",
    "df['late'] = pd.get_dummies(temp.hour > 18)[1]\n",
    "df['night'] = df['early'] + df['late']"
   ]
  },
  {
   "cell_type": "code",
   "execution_count": 74,
   "metadata": {
    "collapsed": false
   },
   "outputs": [],
   "source": [
    "df['ageD'] = 2015-df['birth year'][(df['usertype'] == 'Subscriber') & (df['night'] == 0)]\n",
    "df['ageN'] = 2015-df['birth year'][(df['usertype'] == 'Subscriber') & (df['night'] == 1)]"
   ]
  },
  {
   "cell_type": "code",
   "execution_count": 75,
   "metadata": {
    "collapsed": false
   },
   "outputs": [
    {
     "data": {
      "text/plain": [
       "631569"
      ]
     },
     "execution_count": 75,
     "metadata": {},
     "output_type": "execute_result"
    }
   ],
   "source": [
    "df.ageD.count()"
   ]
  },
  {
   "cell_type": "code",
   "execution_count": 82,
   "metadata": {
    "collapsed": false
   },
   "outputs": [
    {
     "name": "stdout",
     "output_type": "stream",
     "text": [
      "Is the KS statistic 0.49 bigger than the critical value 0.00e+00?\n",
      "Yes\n",
      "We reject the Null hypothesis for this month at the 5.0 % significance level \n",
      "    H0: the two samples are drawn from the same distribution\n"
     ]
    }
   ],
   "source": [
    "ks, p = scipy.stats.ks_2samp(df.ageD, df.ageN)\n",
    "\n",
    "alpha = 0.05\n",
    "c = 1.36*sqrt((df.ageD.count() + df.ageN.count())/(df.ageD.count()*df.ageN.count()))\n",
    "\n",
    "def report_result(ks,c):\n",
    "    print \"Is the KS statistic {0:.2f} bigger than the critical value {1:.2e}?\".format(ks,c)\n",
    "    if ks > c:\n",
    "        print \"Yes\"\n",
    "    else: print \"No\"\n",
    "    \n",
    "    print 'We {0} the Null hypothesis for this month at the {1} % significance level \\n\\\n",
    "    H0: the two samples are drawn from the same distribution'.format( 'reject' if ks > c  else 'fail to reject', \n",
    "                                                                     alpha*100) \n",
    "    \n",
    "report_result(ks,c)"
   ]
  },
  {
   "cell_type": "markdown",
   "metadata": {},
   "source": [
    "### b) Pearson's test"
   ]
  },
  {
   "cell_type": "code",
   "execution_count": 77,
   "metadata": {
    "collapsed": true
   },
   "outputs": [],
   "source": [
    "# I generate a random sample of my bikers, as I need arrays of the same shape for the test\n",
    "ageD2 = np.random.choice(df.ageD.dropna(), 100000, replace=False)\n",
    "ageN2 = np.random.choice(df.ageN.dropna(), 100000, replace=False)"
   ]
  },
  {
   "cell_type": "code",
   "execution_count": 84,
   "metadata": {
    "collapsed": false
   },
   "outputs": [
    {
     "name": "stdout",
     "output_type": "stream",
     "text": [
      "Pearson Correlation: -3.56e-03\n",
      "Is the p-value 0.26 smaller than the significance level 0.05?\n",
      "No\n",
      "We fail to reject the Null hypothesis for this month at the 5.0 % significance level\n"
     ]
    }
   ],
   "source": [
    "pears, p = scipy.stats.pearsonr(ageD2, ageN2)\n",
    "print \"Pearson Correlation: {0:.2e}\".format(pears)\n",
    "\n",
    "def report_result(p,a):\n",
    "    print \"Is the p-value {0:.2f} smaller than the significance level {1:.2f}?\".format(p,a)\n",
    "    if p < a:\n",
    "        print \"Yes\"\n",
    "    else: print \"No\"\n",
    "    \n",
    "    print 'We {0} the Null hypothesis for this month at the {1} % significance level'.format( 'reject' if p < a \n",
    "                                                                                             else 'fail to reject',\n",
    "                                                                                            alpha*100)     \n",
    "report_result(p,alpha)"
   ]
  },
  {
   "cell_type": "markdown",
   "metadata": {},
   "source": [
    "### c) Spearman's test"
   ]
  },
  {
   "cell_type": "code",
   "execution_count": 83,
   "metadata": {
    "collapsed": false
   },
   "outputs": [
    {
     "name": "stdout",
     "output_type": "stream",
     "text": [
      "Spearman Correlation: -2.71e-03\n",
      "Is the p-value 0.39 smaller than the significance level 0.05?\n",
      "No\n",
      "We fail to reject the Null hypothesis for this month at the 5.0 % significance level\n"
     ]
    }
   ],
   "source": [
    "spear, p = scipy.stats.spearmanr(ageD2, ageN2)\n",
    "print \"Spearman Correlation: {0:.2e}\".format(spear)\n",
    "\n",
    "def report_result(p,a):\n",
    "    print \"Is the p-value {0:.2f} smaller than the significance level {1:.2f}?\".format(p,a)\n",
    "    if p < a:\n",
    "        print \"Yes\"\n",
    "    else: print \"No\"\n",
    "    \n",
    "    print 'We {0} the Null hypothesis for this month at the {1} % significance level'.format( 'reject' if p < a \n",
    "                                                                                             else 'fail to reject',\n",
    "                                                                                            alpha*100) \n",
    "    \n",
    "report_result(p,alpha)"
   ]
  },
  {
   "cell_type": "markdown",
   "metadata": {},
   "source": [
    "**In conclusion**: The distribution of age for day and night riders are slightly correlated, but we reject the hypothesis that they are drawn from the same distributions."
   ]
  }
 ],
 "metadata": {
  "kernelspec": {
   "display_name": "Python 2",
   "language": "python",
   "name": "python2"
  },
  "language_info": {
   "codemirror_mode": {
    "name": "ipython",
    "version": 2
   },
   "file_extension": ".py",
   "mimetype": "text/x-python",
   "name": "python",
   "nbconvert_exporter": "python",
   "pygments_lexer": "ipython2",
   "version": "2.7.10"
  }
 },
 "nbformat": 4,
 "nbformat_minor": 0
}
