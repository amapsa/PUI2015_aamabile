{
 "cells": [
  {
   "cell_type": "markdown",
   "metadata": {},
   "source": [
    "# HOMEWORK 4 - ARNO AMABILE\n",
    "___\n",
    "\n",
    "# Assignment 3 - Goodness of fit on Citibike Data\n",
    "\n",
    "test if the distribution of ages can be modelled by a Gaussian\n",
    "\n",
    "1) all riders\n",
    "\n",
    "2) summer riders vs winder riders\n",
    "\n",
    "use 2 tests, you can use KS, AD, or get creative. use KL or chi2 like you did in Assignment2 or perhaps new ones!\n",
    "\n",
    "CHALLANGE! look for a better distribution to fit the data! see notes on how to input a number of different \n",
    "distributions into the test, not just 'norm' and the few others available by keyword\n",
    "my usual imports and setups\n",
    "\n",
    "I need 2 seasons, lets start reading in data from January 2015, and June 2015. One month is not a season. You should import data from other months in the winter as well, and then several summer months to get the other distribution. I am being lazy but you should not be."
   ]
  },
  {
   "cell_type": "code",
   "execution_count": 1,
   "metadata": {
    "collapsed": false
   },
   "outputs": [
    {
     "name": "stdout",
     "output_type": "stream",
     "text": [
      "Populating the interactive namespace from numpy and matplotlib\n"
     ]
    }
   ],
   "source": [
    "import pylab as pl\n",
    "import pandas as pd\n",
    "import numpy as np\n",
    "import scipy.stats\n",
    "%pylab inline\n",
    "\n",
    "import os\n",
    "\n",
    "#this makes my plots pretty! but it is totally not mandatory to do it\n",
    "import json\n",
    "s = json.load( open(os.getenv ('PUI2015')+\"/fbb_matplotlibrc.json\") )\n",
    "pl.rcParams.update(s)"
   ]
  },
  {
   "cell_type": "code",
   "execution_count": 2,
   "metadata": {
    "collapsed": true
   },
   "outputs": [],
   "source": [
    "df_01=pd.read_csv(os.getenv ('PUI2015')+'/Data/201501-citibike-tripdata.csv')\n",
    "df_02=pd.read_csv(os.getenv ('PUI2015')+'/Data/201502-citibike-tripdata.csv')\n",
    "df_12=pd.read_csv(os.getenv ('PUI2015')+'/Data/201412-citibike-tripdata.csv')\n",
    "\n",
    "df_12['age'] = 2015-df_12['birth year'][(df_12['usertype'] == 'Subscriber')]\n",
    "df_01['age'] = 2015-df_01['birth year'][(df_01['usertype'] == 'Subscriber')]\n",
    "df_02['age'] = 2015-df_02['birth year'][(df_02['usertype'] == 'Subscriber')]\n",
    "\n",
    "df_W = df_12.append(df_01.append(df_02))"
   ]
  },
  {
   "cell_type": "code",
   "execution_count": 3,
   "metadata": {
    "collapsed": true
   },
   "outputs": [],
   "source": [
    "df_06=pd.read_csv(os.getenv ('PUI2015')+'/Data/201506-citibike-tripdata.csv')\n",
    "df_07=pd.read_csv(os.getenv ('PUI2015')+'/Data/201506-citibike-tripdata.csv')\n",
    "df_08=pd.read_csv(os.getenv ('PUI2015')+'/Data/201506-citibike-tripdata.csv')\n",
    "\n",
    "df_06['age'] = 2015-df_06['birth year'][(df_06['usertype'] == 'Subscriber')]\n",
    "df_07['age'] = 2015-df_07['birth year'][(df_07['usertype'] == 'Subscriber')]\n",
    "df_08['age'] = 2015-df_08['birth year'][(df_08['usertype'] == 'Subscriber')]\n",
    "\n",
    "df_S = df_06.append(df_07.append(df_08))"
   ]
  },
  {
   "cell_type": "code",
   "execution_count": 4,
   "metadata": {
    "collapsed": true
   },
   "outputs": [],
   "source": [
    "df_all = df_W.append(df_S)"
   ]
  },
  {
   "cell_type": "code",
   "execution_count": 5,
   "metadata": {
    "collapsed": false
   },
   "outputs": [
    {
     "data": {
      "text/plain": [
       "<matplotlib.axes.AxesSubplot at 0x113226150>"
      ]
     },
     "execution_count": 5,
     "metadata": {},
     "output_type": "execute_result"
    },
    {
     "data": {
      "image/png": "[encoded data removed]",
      "text/plain": [
       "<matplotlib.figure.Figure at 0x11fbdeb10>"
      ]
     },
     "metadata": {},
     "output_type": "display_data"
    },
    {
     "data": {
      "image/png": "[encoded data removed]",
      "text/plain": [
       "<matplotlib.figure.Figure at 0x10f338a90>"
      ]
     },
     "metadata": {},
     "output_type": "display_data"
    }
   ],
   "source": [
    "# Nobody is younger than 15 years old, so to avoid NaN cells, I start the categories at 15\n",
    "bins = np.arange(15, 100, 5)\n",
    "df_W.age.groupby(pd.cut(df_W.age, bins)).agg([count_nonzero]).plot(kind='bar', title=\"Winter\")\n",
    "df_S.age.groupby(pd.cut(df_S.age, bins)).agg([count_nonzero]).plot(kind='bar', title=\"Summer\")"
   ]
  },
  {
   "cell_type": "code",
   "execution_count": 6,
   "metadata": {
    "collapsed": true
   },
   "outputs": [],
   "source": [
    "# Create a distribution from the dataframes\n",
    "W_age_dist = df_W.age.groupby(pd.cut(df_W.age, bins)).agg([count_nonzero])\n",
    "S_age_dist = df_S.age.groupby(pd.cut(df_S.age, bins)).agg([count_nonzero])\n",
    "A_age_dist = df_all.age.groupby(pd.cut(df_all.age, bins)).agg([count_nonzero])"
   ]
  },
  {
   "cell_type": "markdown",
   "metadata": {},
   "source": [
    "### 1 - KS tests for goodness of fit"
   ]
  },
  {
   "cell_type": "code",
   "execution_count": 13,
   "metadata": {
    "collapsed": false
   },
   "outputs": [
    {
     "name": "stdout",
     "output_type": "stream",
     "text": [
      "KS statistic for winter riders, normal fit: 1.0\n",
      "KS statistic for summer riders, normal fit: 1.0\n",
      "KS statistic for all riders, normal fit: 1.0 \n",
      "\n",
      "KS statistic for winter riders, exponential fit: 1.0\n",
      "KS statistic for winter riders, exponential fit: 1.0\n",
      "KS statistic for winter riders, exponential fit: 1.0\n"
     ]
    }
   ],
   "source": [
    "# Compare to normal\n",
    "\n",
    "ksW=scipy.stats.kstest(W_age_dist, 'norm')\n",
    "ksS=scipy.stats.kstest(S_age_dist, 'norm')\n",
    "ksA=scipy.stats.kstest(A_age_dist, 'norm')\n",
    "print \"KS statistic for winter riders, normal fit:\", ksW[0]\n",
    "print \"KS statistic for summer riders, normal fit:\", ksS[0]\n",
    "print \"KS statistic for all riders, normal fit:\", ksA[0], \"\\n\"\n",
    "\n",
    "# Compare to Gamma \n",
    "\n",
    "ksW=scipy.stats.kstest(W_age_dist, 'expon', args=(40,))\n",
    "ksS=scipy.stats.kstest(S_age_dist, 'expon', args=(35,))\n",
    "ksA=scipy.stats.kstest(A_age_dist, 'expon', args=(39,))\n",
    "\n",
    "print \"KS statistic for winter riders, exponential fit:\", ksW[0]\n",
    "print \"KS statistic for winter riders, exponential fit:\", ksS[0]\n",
    "print \"KS statistic for winter riders, exponential fit:\", ksA[0]"
   ]
  },
  {
   "cell_type": "markdown",
   "metadata": {},
   "source": [
    "All those KS statistics are very high, as the critical value for a significance level of $\\alpha=0.05$ is $c(\\alpha) = 1.36\\times \\sqrt \\frac{n_1 + n_2}{n_1*n_2}$. We can thus reject the null hypothesis that any of those age distributions (for winter, summer, or all riders) is drawn from a normal or a gamma distribution at a 5 % significance level."
   ]
  },
  {
   "cell_type": "markdown",
   "metadata": {},
   "source": [
    "### 2 - AD Test"
   ]
  },
  {
   "cell_type": "code",
   "execution_count": 18,
   "metadata": {
    "collapsed": false
   },
   "outputs": [
    {
     "name": "stdout",
     "output_type": "stream",
     "text": [
      "AD statistic for winter riders, normal fit: 0.821\n",
      "AD statistic for summer riders, normal fit: 0.869\n",
      "AD statistic for all riders, normal fit: 0.853 \n",
      "\n",
      "AD statistic for winter riders, exponential fit: 3.984\n",
      "AD statistic for summer riders, exponential fit: 4.897\n",
      "AD statistic for all riders, exponential fit: 4.582\n"
     ]
    }
   ],
   "source": [
    "# Compare to normal\n",
    "\n",
    "adW=scipy.stats.anderson(W_age_dist['count_nonzero'], dist='norm')\n",
    "adS=scipy.stats.anderson(S_age_dist['count_nonzero'], 'norm')\n",
    "adA=scipy.stats.anderson(A_age_dist['count_nonzero'], 'norm')\n",
    "\n",
    "print \"AD statistic for winter riders, normal fit: {0:.3f}\".format(adW[0])\n",
    "print \"AD statistic for summer riders, normal fit: {0:.3f}\".format(adS[0])\n",
    "print \"AD statistic for all riders, normal fit: {0:.3f}\".format(adA[0]), \"\\n\"\n",
    "\n",
    "# Compare to Gamma \n",
    "\n",
    "adW=scipy.stats.anderson(W_age_dist['count_nonzero'], 'expon')\n",
    "adS=scipy.stats.anderson(S_age_dist['count_nonzero'], 'expon')\n",
    "adA=scipy.stats.anderson(A_age_dist['count_nonzero'], 'expon')\n",
    "\n",
    "print \"AD statistic for winter riders, exponential fit: {0:.3f}\".format(adW[0])\n",
    "print \"AD statistic for summer riders, exponential fit: {0:.3f}\".format(adS[0])\n",
    "print \"AD statistic for all riders, exponential fit: {0:.3f}\".format(adA[0])"
   ]
  },
  {
   "cell_type": "markdown",
   "metadata": {},
   "source": [
    "The critical value at the 5 % significance level is 0.759. All those statistics are above the value, so we can reject the null hypothesis at this significance level for all the age distributions: they are drawn neither from a gaussian nor from an exponential distribution.\n",
    "\n",
    "However, if we are more ambitious and take a significance level of 1 %, the critical value is 1.053, and we thus fail to reject the null hypothesis that the distributions are drawn from a gaussian distribution. The fact that the AD test fail to reject it, and that the KS test does not (even with a 1 % significance level), is due to the fact that the critical value decreases with the sample size (very large here) in the KS test and not in the AD test."
   ]
  }
 ],
 "metadata": {
  "kernelspec": {
   "display_name": "Python 2",
   "language": "python",
   "name": "python2"
  },
  "language_info": {
   "codemirror_mode": {
    "name": "ipython",
    "version": 2
   },
   "file_extension": ".py",
   "mimetype": "text/x-python",
   "name": "python",
   "nbconvert_exporter": "python",
   "pygments_lexer": "ipython2",
   "version": "2.7.10"
  }
 },
 "nbformat": 4,
 "nbformat_minor": 0
}
